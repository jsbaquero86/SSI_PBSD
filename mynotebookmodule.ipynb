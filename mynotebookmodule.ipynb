{
 "cells": [
  {
   "cell_type": "markdown",
   "id": "d7d6032d",
   "metadata": {},
   "source": [
    "This notebook is a simple test for importing the nb as a module following the recommendations\n",
    "in the introctory tutorial.\n"
   ]
  },
  {
   "cell_type": "code",
   "execution_count": 2,
   "id": "d749a9ca",
   "metadata": {},
   "outputs": [],
   "source": [
    "def det_phi(fy):\n",
    "    \"\"\"This definition is used to determine a lists for epsilon and phi values\"\"\"\n",
    "    if fy == 28:\n",
    "        epsy = 0.0014\n",
    "    else:\n",
    "        epsy = 0.002\n",
    "    # Creating list of eps values\n",
    "    eps = [x*0.0001 for x in range(56)]\n",
    "    \n",
    "    # Creating list of phi values\n",
    "    phi = []\n",
    "    for i in range(len(eps)):\n",
    "        if eps[i] < epsy:\n",
    "            phi.append(0.65)\n",
    "        elif eps[i] >= epsy and eps[i] <= epsy+0.003:\n",
    "            phi.append(0.65 + 0.25*(eps[i] - epsy)/0.003)\n",
    "        else:\n",
    "            phi.append(0.90)\n",
    "    \n",
    "    return eps, phi            "
   ]
  }
 ],
 "metadata": {
  "kernelspec": {
   "display_name": "Python 3 (ipykernel)",
   "language": "python",
   "name": "python3"
  },
  "language_info": {
   "codemirror_mode": {
    "name": "ipython",
    "version": 3
   },
   "file_extension": ".py",
   "mimetype": "text/x-python",
   "name": "python",
   "nbconvert_exporter": "python",
   "pygments_lexer": "ipython3",
   "version": "3.10.9"
  }
 },
 "nbformat": 4,
 "nbformat_minor": 5
}
