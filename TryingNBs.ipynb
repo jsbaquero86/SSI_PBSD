{
 "cells": [
  {
   "cell_type": "markdown",
   "id": "d2699e36",
   "metadata": {
    "tags": []
   },
   "source": [
    "# Titulo de Prueba\n",
    "Esta es la forma en el que se introduce un titulo con el tamano mas adecuado. Pero cómo se hace para que se vea impreso sin el símbolo de almohadilla?? Bueno, ejecutando esta celda.\n",
    "$$ v_{\\gamma_vM_{sc}} = \\frac{\\gamma_v M_{sc} c}{J_c} $$"
   ]
  },
  {
   "cell_type": "code",
   "execution_count": null,
   "id": "e3617ba8",
   "metadata": {},
   "outputs": [],
   "source": [
    "a=9\n",
    "b=89\n",
    "c=b%9"
   ]
  },
  {
   "cell_type": "code",
   "execution_count": null,
   "id": "bf3f5cb8",
   "metadata": {},
   "outputs": [],
   "source": [
    "print(a,b,c)"
   ]
  },
  {
   "cell_type": "code",
   "execution_count": null,
   "id": "e6539e06",
   "metadata": {},
   "outputs": [],
   "source": [
    "from __future__ import print_function\n",
    "import sys\n",
    "print('hi, stderr',file=sys.stderr)"
   ]
  },
  {
   "cell_type": "code",
   "execution_count": null,
   "id": "6247bedb",
   "metadata": {},
   "outputs": [],
   "source": [
    "import time\n",
    "for i in range(8):\n",
    "    print(i)\n",
    "    time.sleep(0.5)"
   ]
  },
  {
   "cell_type": "markdown",
   "id": "7341a579",
   "metadata": {},
   "source": [
    "\\begin{equation}\n",
    "e^x=\\sum_{i=0}^\\infty \\frac{1}{i!}x^i\n",
    "\\end{equation}"
   ]
  },
  {
   "cell_type": "markdown",
   "id": "d69a9d9c",
   "metadata": {},
   "source": [
    "$$e^x=\\sum_{i=0}^\\infty \\frac{1}{i!}x^i$$"
   ]
  },
  {
   "cell_type": "markdown",
   "id": "d8a9c2a0",
   "metadata": {},
   "source": [
    "```python\n",
    "print('hello world')\n",
    "````\n"
   ]
  },
  {
   "cell_type": "markdown",
   "id": "eed80b44",
   "metadata": {},
   "source": [
    "| this | is|\n",
    "|------|---|\n",
    "|  a   |table|"
   ]
  },
  {
   "cell_type": "code",
   "execution_count": null,
   "id": "48650ea9",
   "metadata": {},
   "outputs": [],
   "source": [
    "import io, os, sys, types"
   ]
  },
  {
   "cell_type": "code",
   "execution_count": null,
   "id": "ddef6d45",
   "metadata": {},
   "outputs": [],
   "source": [
    "from IPython import get_ipython\n",
    "from nbformat import read\n",
    "from IPython.core.interactiveshell import InteractiveShell"
   ]
  },
  {
   "cell_type": "code",
   "execution_count": null,
   "id": "24abf9bf",
   "metadata": {},
   "outputs": [],
   "source": [
    "def find_notebook(fullname, path=None):\n",
    "    \"\"\"find a notebook, given its fully qualified name and an optional path\n",
    "\n",
    "    This turns \"foo.bar\" into \"foo/bar.ipynb\"\n",
    "    and tries turning \"Foo_Bar\" into \"Foo Bar\" if Foo_Bar\n",
    "    does not exist.\n",
    "    \"\"\"\n",
    "    name = fullname.rsplit('.', 1)[-1]\n",
    "    if not path:\n",
    "        path = ['']\n",
    "    for d in path:\n",
    "        nb_path = os.path.join(d, name + \".ipynb\")\n",
    "        if os.path.isfile(nb_path):\n",
    "            return nb_path\n",
    "        # let import Notebook_Name find \"Notebook Name.ipynb\"\n",
    "        nb_path = nb_path.replace(\"_\", \" \")\n",
    "        if os.path.isfile(nb_path):\n",
    "            return nb_path"
   ]
  },
  {
   "cell_type": "code",
   "execution_count": null,
   "id": "a3553d96",
   "metadata": {},
   "outputs": [],
   "source": [
    "class NotebookLoader(object):\n",
    "    \"\"\"Module Loader for Jupyter Notebooks\"\"\"\n",
    "\n",
    "    def __init__(self, path=None):\n",
    "        self.shell = InteractiveShell.instance()\n",
    "        self.path = path\n",
    "\n",
    "    def load_module(self, fullname):\n",
    "        \"\"\"import a notebook as a module\"\"\"\n",
    "        path = find_notebook(fullname, self.path)\n",
    "\n",
    "        print(\"importing Jupyter notebook from %s\" % path)\n",
    "\n",
    "        # load the notebook object\n",
    "        with io.open(path, 'r', encoding='utf-8') as f:\n",
    "            nb = read(f, 4)\n",
    "\n",
    "        # create the module and add it to sys.modules\n",
    "        # if name in sys.modules:\n",
    "        #    return sys.modules[name]\n",
    "        mod = types.ModuleType(fullname)\n",
    "        mod.__file__ = path\n",
    "        mod.__loader__ = self\n",
    "        mod.__dict__['get_ipython'] = get_ipython\n",
    "        sys.modules[fullname] = mod\n",
    "\n",
    "        # extra work to ensure that magics that would affect the user_ns\n",
    "        # actually affect the notebook module's ns\n",
    "        save_user_ns = self.shell.user_ns\n",
    "        self.shell.user_ns = mod.__dict__\n",
    "\n",
    "        try:\n",
    "            for cell in nb.cells:\n",
    "                if cell.cell_type == 'code':\n",
    "                    # transform the input to executable Python\n",
    "                    code = self.shell.input_transformer_manager.transform_cell(cell.source)\n",
    "                    # run the code in themodule\n",
    "                    exec(code, mod.__dict__)\n",
    "        finally:\n",
    "            self.shell.user_ns = save_user_ns\n",
    "        return mod"
   ]
  },
  {
   "cell_type": "code",
   "execution_count": null,
   "id": "f60b7834",
   "metadata": {},
   "outputs": [],
   "source": [
    "class NotebookFinder(object):\n",
    "    \"\"\"Module finder that locates Jupyter Notebooks\"\"\"\n",
    "\n",
    "    def __init__(self):\n",
    "        self.loaders = {}\n",
    "\n",
    "    def find_module(self, fullname, path=None):\n",
    "        nb_path = find_notebook(fullname, path)\n",
    "        if not nb_path:\n",
    "            return\n",
    "\n",
    "        key = path\n",
    "        if path:\n",
    "            # lists aren't hashable\n",
    "            key = os.path.sep.join(path)\n",
    "\n",
    "        if key not in self.loaders:\n",
    "            self.loaders[key] = NotebookLoader(path)\n",
    "        return self.loaders[key]"
   ]
  },
  {
   "cell_type": "code",
   "execution_count": null,
   "id": "a78732cf",
   "metadata": {},
   "outputs": [],
   "source": [
    "sys.meta_path.append(NotebookFinder())"
   ]
  },
  {
   "cell_type": "code",
   "execution_count": null,
   "id": "c61730e0",
   "metadata": {},
   "outputs": [],
   "source": [
    "import mynotebookmodule as mnbm"
   ]
  },
  {
   "cell_type": "code",
   "execution_count": null,
   "id": "a155e368",
   "metadata": {},
   "outputs": [],
   "source": [
    "eps, phi = mnbm.det_phi(420)"
   ]
  },
  {
   "cell_type": "code",
   "execution_count": null,
   "id": "b1a2af73-9de1-4930-8475-0a7a93825083",
   "metadata": {},
   "outputs": [],
   "source": [
    "import pandas as pd"
   ]
  },
  {
   "cell_type": "code",
   "execution_count": null,
   "id": "aee51d9f-f439-4c99-8090-2900acaa46b9",
   "metadata": {},
   "outputs": [],
   "source": [
    "import numpy as np\n",
    "ar = np.ones((5,5))\n",
    "print(ar)"
   ]
  },
  {
   "cell_type": "code",
   "execution_count": null,
   "id": "6eb28dc3-3826-42a7-8dbe-ce4d8036c216",
   "metadata": {},
   "outputs": [],
   "source": [
    "arDF = pd.DataFrame(data=ar,columns=[0,1,2,3,4],index=[0,1,2,3,4])\n",
    "arDF"
   ]
  },
  {
   "cell_type": "code",
   "execution_count": null,
   "id": "904d1954-3022-467b-8be0-e1dc0dcf3293",
   "metadata": {},
   "outputs": [],
   "source": [
    "pwd"
   ]
  },
  {
   "cell_type": "code",
   "execution_count": null,
   "id": "58ddc257-eeef-4dec-a376-efa4d3430d7b",
   "metadata": {},
   "outputs": [],
   "source": [
    "Path.cwd()"
   ]
  },
  {
   "cell_type": "code",
   "execution_count": null,
   "id": "d5b736af-863c-460c-9a8c-02a36f6ac77c",
   "metadata": {},
   "outputs": [],
   "source": [
    "aja = pd.DataFrame(data=ar,columns=range(5),index=range(5))"
   ]
  },
  {
   "cell_type": "code",
   "execution_count": null,
   "id": "db92a6ef-728a-48fa-951e-dfa2dddcce81",
   "metadata": {},
   "outputs": [],
   "source": [
    "aja"
   ]
  },
  {
   "cell_type": "code",
   "execution_count": null,
   "id": "c5a223d1-6278-422a-ace4-fc20815a778d",
   "metadata": {},
   "outputs": [],
   "source": []
  }
 ],
 "metadata": {
  "kernelspec": {
   "display_name": "Python 3 (ipykernel)",
   "language": "python",
   "name": "python3"
  },
  "language_info": {
   "codemirror_mode": {
    "name": "ipython",
    "version": 3
   },
   "file_extension": ".py",
   "mimetype": "text/x-python",
   "name": "python",
   "nbconvert_exporter": "python",
   "pygments_lexer": "ipython3",
   "version": "3.10.9"
  }
 },
 "nbformat": 4,
 "nbformat_minor": 5
}
