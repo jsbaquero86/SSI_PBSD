{
 "cells": [
  {
   "cell_type": "markdown",
   "id": "ce91845a-9694-4aab-8f7e-d55b3e2bd36f",
   "metadata": {},
   "source": [
    "<h1 style=\"text-align: center;\">Soil-Structure Interaction in the Performance-Based Seismic Design of Reinforced-Concrete Buildings</h1>\n",
    "<h3 style=\"text-align: center;\">Juan-Sebastián BAQUERO <sup style=\"font-size:12px\">1,2</sup>, Jesús-Miguel BAIRÁN <sup style=\"font-size:12px\">2</sup> and Alberto LEDESMA <sup style=\"font-size:12px\">2,3</sup></h3>\n",
    "\n",
    "<p style=\"text-align:center; font-size:16px\"><sup style=\"font-size:12px\">1</sup>Pontificia Universidad Católica del Ecuador. Quito-Ecuador.<br><span style=\"font-family:Complex; font-size:14px\">jsbaquero@puce.edu.ec</span><br>\n",
    "<sup style=\"font-size:12px\">2</sup>Universitat Politècnica de Catalunya. Barcelona-Spain.\n",
    "<br><sup style=\"font-size:12px\">3</sup>International Centre for Numerical Methods in Engineering, CIMNE. Barcelona-Spain</p>\n",
    "\n",
    "<div style=\"margin-left:100px; margin-right:100px; margin-top:30px; text-indent:40px\" align=\"justify\">\n",
    "    When analyzing structures for seismic design and performance assessment purposes, it has been common to assume that the ground motions or their equivalent representations through design and response spectra, respectively, correspond to that of the free-field characteristics. Implicit in this assumption was the reduced or no understanding of how the behavior of the soil beneath the studied structures modifies their global dynamic response and that of the foundation-level ground itself to a certain extent. While employing the free-field criteria to the seismic demand could closely reflect the actual response of structures found over firm and stiff soils, poorer soil characteristics indeed change how ground motions are propagated throughout the soil medium, mainly given the presence of a structure. Moreover, changes in the foundation-level ground motions don’t come alone, but the structural responses are also modified due to the reduced support capacities of a soft soil. The reason for these alterations in the response is that the soft soil must be considered part of the analyzed soil-structure system (SSS), somewhat increasing its deformability. The combined system behavior and its repercussions regarding its dynamic response have been studied approximately since the second half of the twentieth century. From then on, this phenomenon's understanding and comprehensive knowledge have constantly grown to the point of nowadays becoming a broad research area devoted to studying the so-called soil-structure interaction (SSI) effects. \n",
    "In this regard, it has gradually become more common to find specialized chapters in design standards around the world dedicated to giving guidelines for the seismic design of buildings with interaction effects considerations. Within the North American scope, for instance, the <i>Minimum Design Loads and Associated Criteria for Buildings and Other Structures</i> (ASCE-7), and the <i>Seismic Evaluation and Retrofit of Existing Structures</i> (ASCE-41) standards prescribe, respectively, seismic design and performance assessment requirements that account for the SSI effects for their corresponding individual purposes. However, the requirements and recommendations in such standards still rely on the outcomes of oversimplified linear equivalent models of the structure and supporting soil. It is worth mentioning that such simplifications are not just a matter of simple will but because of the complex and intricate nature of a more rigorous analysis of the soil-structure interaction phenomenon using more elaborated models.\n",
    "Such prescribed recommendations are focused only on reflecting the beneficial effects of the SSI phenomenon, even though it is well-known from studies carried out around two decades ago, that the soil-structure interaction can also induce detrimental effects in the structural response. Supported on the seismic performance assessment results of an RC buildings database, a pair of factors dedicated to modifying the seismic design demand and the expected inelastic deformations are recommended to improve the building design outcomes in terms of measured performance. Thus, $\\alpha$-factor and $\\alpha_{C_d}$ are called to meet the needs of improving strength and stiffness characteristics, respectively, of buildings achieving adequate <b>Life Safety</b> and <b>Collapse Prevention</b> structural performance levels. Moreover, these factors consider not only the beneficial effects of the SSI phenomenon but the detrimental ones, seeking to change the current paradigms of the code-prescribed provisions for assessment and design practices. To help accomplish these goals, estimation models were generated for the $\\alpha$- and $\\alpha_{C_d}$ factors through regression analysis methods. Advanced computational tools such as OpenSeesPy, embedded in the Python environment, for the design and assessment of the buildings in the database and machine-learning regression techniques for generating the estimation models, were used to ease the development of the tasks involved in the process described above.\n",
    "It is demonstrated that the generated correlation models can translate the performance indicators obtained through simple analysis procedures and models to those determined using more complex counterparts. This means, for instance, that it is possible to assess a building with or without flexible base conditions using either the modal response spectrum analysis (MRSA) or the pushover nonlinear static procedure (NSP) and transform its performance indicators to those that would be obtained from a flexible base model analyzed through the nonlinear time history analysis (NLTHA). The latter is deemed the analysis procedure giving the closest to actual performance indicators. This represents a leap forward in the performance assessment process since the time-consuming NLTHA can be skipped using a less complex model and analysis procedures. In addition, $\\alpha$- and $\\alpha_{C_d}$ factors values proved to successfully produce sound building designs that achieve expected structural performance levels while considering SSI effects, something that has been demonstrated unlikely to accomplish just by following the current code-prescribed recommendations.\n",
    "    <br>\n",
    "    <strong>This Jupyter Notebook is presented as an electronic tool for calculating:</strong>  a) the set of translated performance indicator values, and b) the set of estimated design modification factors, $\\alpha$- and $\\alpha_{C_d}$.\n",
    "\n",
    "</div>"
   ]
  },
  {
   "cell_type": "markdown",
   "id": "6665f8de-5aae-47b4-a52c-57bbd1c60302",
   "metadata": {},
   "source": [
    "### Calculation of Design Modification Factors, $\\alpha$- and $\\alpha_{C_d}$\n",
    "Please, complete the following code-cell with the required data (specified in the commented lines) for the estimation model to work. If more directions on calculating the different parameters to be introduced are needed, please refer to the README file included this repository. <br><strong>The cell below is the only cell you should modify!!</strong>"
   ]
  },
  {
   "cell_type": "code",
   "execution_count": null,
   "id": "e235b8bd-4843-4d9a-a27c-7d25d2468062",
   "metadata": {
    "tags": []
   },
   "outputs": [],
   "source": [
    "# Characteristics of the evaluated structure\n",
    "X1 = 0.9938            # [s] fixed-base period of the structure.\n",
    "X2 = 1.1647            # [s] flexible-base period of the structure.\n",
    "X5 = 7.1969            # [-] wave parameter.\n",
    "X6 = 3.0               # [-] structure's slenderness ratio.\n",
    "X7 = 0.5714            # [-] B/L, footprint aspect ratio.\n",
    "X10 = 0.6375           # [g] flexible-base spectral acceleration parameter according to ASCE-41. (Assessment spectral acceleration).\n",
    "X13 = 0.6524           # [-] Vd* ratio of the flexible- to fixed- base structure design base shear."
   ]
  },
  {
   "cell_type": "markdown",
   "id": "4efc27ce-73d2-430f-bc6d-623ba952ddcd",
   "metadata": {},
   "source": [
    "Estimated values of $\\alpha$- and $\\alpha_{C_d}$ are first determined."
   ]
  },
  {
   "cell_type": "code",
   "execution_count": null,
   "id": "1fe50578-9d61-423c-91ea-a669c806fb18",
   "metadata": {},
   "outputs": [],
   "source": [
    "import modifiers.mimp as mmimp\n",
    "alphaDF, alphaCdDF = mmimp.modfactors(X1,X2,X5,X6,X7,X10,X13)"
   ]
  },
  {
   "cell_type": "markdown",
   "id": "9f104761-4cfd-46dd-97bd-b11588a8e945",
   "metadata": {},
   "source": [
    "<b>$\\alpha$ values are displayed.</b>"
   ]
  },
  {
   "cell_type": "code",
   "execution_count": null,
   "id": "48b2825b-0ed8-4f7a-9c9d-f658ba187785",
   "metadata": {},
   "outputs": [],
   "source": [
    "display(alphaDF)"
   ]
  },
  {
   "cell_type": "markdown",
   "id": "c7aaeb95-9e95-491e-a107-08e26536f7a4",
   "metadata": {},
   "source": [
    "<b>$\\alpha_{C_d}$ values are displayed.</b>"
   ]
  },
  {
   "cell_type": "code",
   "execution_count": null,
   "id": "aa0a84b5-ae17-432b-83f6-ebe4636777cb",
   "metadata": {},
   "outputs": [],
   "source": [
    "display(alphaCdDF)"
   ]
  }
 ],
 "metadata": {
  "kernelspec": {
   "display_name": "Python 3 (ipykernel)",
   "language": "python",
   "name": "python3"
  },
  "language_info": {
   "codemirror_mode": {
    "name": "ipython",
    "version": 3
   },
   "file_extension": ".py",
   "mimetype": "text/x-python",
   "name": "python",
   "nbconvert_exporter": "python",
   "pygments_lexer": "ipython3",
   "version": "3.10.9"
  }
 },
 "nbformat": 4,
 "nbformat_minor": 5
}
