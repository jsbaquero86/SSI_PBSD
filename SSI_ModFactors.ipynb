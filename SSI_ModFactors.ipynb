{
 "cells": [
  {
   "cell_type": "code",
   "execution_count": 14,
   "id": "e235b8bd-4843-4d9a-a27c-7d25d2468062",
   "metadata": {},
   "outputs": [],
   "source": [
    "# Characteristics of the evaluated structure\n",
    "X1 = 0.9938            # [s] fixed-base period of the structure.\n",
    "X2 = 1.1647            # [s] flexible-base period of the structure.\n",
    "X5 = 7.1969            # [-] wave parameter.\n",
    "X6 = 3.0               # [-] structure's slenderness ratio.\n",
    "X7 = 0.5714            # [-] B/L, footprint aspect ratio.\n",
    "X10 = 0.6375           # [g] flexible-base spectral acceleration parameter according to ASCE-41. (Assessment spectral acceleration).\n",
    "X13 = 0.6524           # [-] Vd* ratio of the flexible- to fixed- base structure design base shear.\n",
    "\n",
    "import modifiers\n",
    "modifiers.pmimporter()\n",
    "alphaVals, alphaCdVals = modifiers.modfactors(X1,X2,X5,X6,X7,X10,X13)"
   ]
  }
 ],
 "metadata": {
  "kernelspec": {
   "display_name": "Python 3 (ipykernel)",
   "language": "python",
   "name": "python3"
  },
  "language_info": {
   "codemirror_mode": {
    "name": "ipython",
    "version": 3
   },
   "file_extension": ".py",
   "mimetype": "text/x-python",
   "name": "python",
   "nbconvert_exporter": "python",
   "pygments_lexer": "ipython3",
   "version": "3.10.9"
  }
 },
 "nbformat": 4,
 "nbformat_minor": 5
}
